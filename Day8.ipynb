{
 "cells": [
  {
   "cell_type": "code",
   "execution_count": 5,
   "id": "dadfcef9-43eb-4e49-85b1-e833a7a7dffd",
   "metadata": {},
   "outputs": [
    {
     "name": "stdout",
     "output_type": "stream",
     "text": [
      "vehicle is starting\n",
      "bike is starting with a button\n",
      "car is starting with a key\n"
     ]
    }
   ],
   "source": [
    "#over-riding method in a sub class\n",
    "class vehicle:\n",
    "    def start(self):\n",
    "        print(\"vehicle is starting\")\n",
    "class car(vehicle):\n",
    "    def start(self):\n",
    "        print(\"car is starting with a key\")\n",
    "class bike(vehicle):\n",
    "    def start(self):\n",
    "        print(\"bike is starting with a button\")\n",
    "v = vehicle()\n",
    "b = bike()\n",
    "c = car()\n",
    "v.start()\n",
    "b.start()\n",
    "c.start()"
   ]
  },
  {
   "cell_type": "code",
   "execution_count": 7,
   "id": "9284b8e9-3d2c-46a6-a6dc-7bae137c49e9",
   "metadata": {},
   "outputs": [
    {
     "name": "stdout",
     "output_type": "stream",
     "text": [
      "calculating\n",
      "Deploy the area of the circle\n"
     ]
    }
   ],
   "source": [
    "'''over-riding,calling superclass attribute program to calculate the area of a circle by method overridin by calling the superclass function'''\n",
    "class shape:\n",
    "    def area(self):\n",
    "        print(\"Deploy the area of the circle\")\n",
    "class circle(shape):\n",
    "    def area(self):\n",
    "        print(\"calculating\")\n",
    "        super().area()\n",
    "c=circle()\n",
    "c.area()"
   ]
  },
  {
   "cell_type": "code",
   "execution_count": 23,
   "id": "8509800e-cf43-4cd0-bb70-5ebb2e264ef9",
   "metadata": {},
   "outputs": [
    {
     "name": "stdout",
     "output_type": "stream",
     "text": [
      " Employee salary is 50000\n",
      " Manager salary is 55000\n",
      " developer salary is 60000\n"
     ]
    }
   ],
   "source": [
    "#pasing the args and return values\n",
    "'''program to pass argsof salaries of difrent deignated employees from a superclass to sub classes tae super clas as employee and derived class as\n",
    "manager and developer accordingly\\and pass the amount with 10% and 20% bonus'''\n",
    "class employee:\n",
    "    def salary(self,cash):\n",
    "        print(f\" Employee salary is {cash}\")\n",
    "class manager(employee):\n",
    "    def salary(self,cash):\n",
    "        print(\" Manager salary is\",round(cash * 1.1))\n",
    "class developer(employee):\n",
    "    def salary(self,cash):\n",
    "        print(\" developer salary is\", round(cash * 1.2))\n",
    "e = employee()\n",
    "m = manager()\n",
    "d = developer()\n",
    "e.salary(50000)\n",
    "m.salary(50000)\n",
    "d.salary(50000)"
   ]
  },
  {
   "cell_type": "code",
   "execution_count": 33,
   "id": "6436f2e3-244f-4f04-bb8d-ad24d1867232",
   "metadata": {},
   "outputs": [
    {
     "name": "stdout",
     "output_type": "stream",
     "text": [
      "Hello,How are you!!!\n",
      "Hey,whatzzup!!!\n",
      "who the hell are you!!!\n"
     ]
    }
   ],
   "source": [
    "class person:\n",
    "    def hi(self):\n",
    "        return \"Hello,How are you!!!\"\n",
    "class friend:\n",
    "    def hi(self):\n",
    "        return \"Hey,whatzzup!!!\"\n",
    "class stranger:\n",
    "    def hi(self):\n",
    "        return \"who the hell are you!!!\"\n",
    "p = person()\n",
    "f = friend()\n",
    "s = stranger()\n",
    "print(p.hi())\n",
    "print(f.hi())\n",
    "print(s.hi())"
   ]
  },
  {
   "cell_type": "code",
   "execution_count": 45,
   "id": "9d68f297-fbb9-4b8b-8c80-31238a18e26b",
   "metadata": {},
   "outputs": [
    {
     "name": "stdin",
     "output_type": "stream",
     "text": [
      "Enter the number of rows for a: 2\n",
      "Enter the number of columns for a: 2\n"
     ]
    },
    {
     "name": "stdout",
     "output_type": "stream",
     "text": [
      "Enter element of the matrix a:\n"
     ]
    },
    {
     "name": "stdin",
     "output_type": "stream",
     "text": [
      "Row 1: 1\n",
      "Row 2: 2\n",
      "Enter the number of rows for b: 3\n",
      "Enter the number of columns for b: 2\n"
     ]
    },
    {
     "name": "stdout",
     "output_type": "stream",
     "text": [
      "Enter element of the matrix b:\n"
     ]
    },
    {
     "name": "stdin",
     "output_type": "stream",
     "text": [
      "Row 1: 2\n",
      "Row 2: 3\n",
      "Row 3: 2\n"
     ]
    }
   ],
   "source": [
    "'''program to create a matrix operations class to work with different operations like add,sub,mul with separate derived classes by\n",
    "manual input by matrices'''\n",
    "def input_matrix(name):\n",
    "    r = int(input(f\"Enter the number of rows for {name}:\"))\n",
    "    c = int(input(f\"Enter the number of columns for {name}:\"))\n",
    "    matrix = []\n",
    "    print(f\"Enter element of the matrix {name}:\")\n",
    "    for i in range(r):\n",
    "        r = list(map(int,input(f\"Row {i+1}:\").split()))\n",
    "        matrix.append(r)\n",
    "    return matrix\n",
    "a = input_matrix('a')\n",
    "b = input_matrix('b')"
   ]
  },
  {
   "cell_type": "code",
   "execution_count": null,
   "id": "0a2f661c-11b4-4fa0-a47d-95b614480104",
   "metadata": {},
   "outputs": [],
   "source": [
    "class m_ops:\n",
    "    def operate(self,a,b):\n",
    "        result=[]\n",
    "        for i in range(len(a)):\n",
    "            r=[]\n",
    "            for j in range(len(a[0])):\n",
    "                r.append(a[i][j]+b[i][j])\n",
    "                result.append(r)\n",
    "            return result\n",
    "class m_sub(m_ops):\n",
    "        def operate(self,a,b):\n",
    "        result=[]\n",
    "        for i in range(len(a)):\n",
    "            r=[]\n",
    "            for j in range(len(a[0])):\n",
    "                r.append(a[i][j]-b[i][j])\n",
    "                result.append(r)\n",
    "            return result\n",
    "class m_mul(m_ops):\n",
    "        def operate(self,a,b):\n",
    "        result=[]\n",
    "        for i in range(len(a)):\n",
    "             r=[]\n",
    "            for j in range(len(a[0])):\n",
    "                val = 0\n",
    "                for k in range(len(b)):\n",
    "                    val+=a[i][k]*b[k][j]\n",
    "                    r.append(val)\n",
    "                result.append(r)\n",
    "            return result\n",
    "def input_matrix(name):\n",
    "    r=int(input(f\"enter number of rows for [name]:\"))\n",
    "    c=int(input(f\"enter number of columns for [name]:\"))\n",
    "    matrix=[]\n",
    "    print(f\"Enter the elements of the matrix {name}:\")\n",
    "    for i in range(r):\n",
    "        r=list(map(int,input(f\"Row {i+1}:\").split()))\n",
    "        matrix.append(r)\n",
    "    return matrix\n",
    "a=input_matrix('a')\n",
    "b=input_matrix('b')\n",
    "print(\"select operations')"
   ]
  }
 ],
 "metadata": {
  "kernelspec": {
   "display_name": "Python 3 (ipykernel)",
   "language": "python",
   "name": "python3"
  },
  "language_info": {
   "codemirror_mode": {
    "name": "ipython",
    "version": 3
   },
   "file_extension": ".py",
   "mimetype": "text/x-python",
   "name": "python",
   "nbconvert_exporter": "python",
   "pygments_lexer": "ipython3",
   "version": "3.12.7"
  }
 },
 "nbformat": 4,
 "nbformat_minor": 5
}
