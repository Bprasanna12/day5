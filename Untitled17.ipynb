{
 "cells": [
  {
   "cell_type": "code",
   "execution_count": 3,
   "id": "6bcaf972-7a18-43bb-8468-5ad3e536d857",
   "metadata": {},
   "outputs": [
    {
     "name": "stdout",
     "output_type": "stream",
     "text": [
      "hi students\n",
      "india\n"
     ]
    }
   ],
   "source": [
    "num= 99\n",
    "if (num>0):\n",
    "   print(\"hi students\")\n",
    "print(\"india\")"
   ]
  },
  {
   "cell_type": "code",
   "execution_count": 5,
   "id": "69a074ab-5482-4c13-9cf6-4d7271081f89",
   "metadata": {},
   "outputs": [
    {
     "name": "stdin",
     "output_type": "stream",
     "text": [
      "enter the age: 20\n"
     ]
    },
    {
     "name": "stdout",
     "output_type": "stream",
     "text": [
      "eligible\n"
     ]
    }
   ],
   "source": [
    "person=int(input(\"enter the age:\"))\n",
    "limit=18\n",
    "if person>=limit:\n",
    "   print(\"eligible\")  "
   ]
  },
  {
   "cell_type": "code",
   "execution_count": null,
   "id": "9b3d0e52-95b7-4d48-9096-c98b33b250b2",
   "metadata": {},
   "outputs": [],
   "source": []
  }
 ],
 "metadata": {
  "kernelspec": {
   "display_name": "Python 3 (ipykernel)",
   "language": "python",
   "name": "python3"
  },
  "language_info": {
   "codemirror_mode": {
    "name": "ipython",
    "version": 3
   },
   "file_extension": ".py",
   "mimetype": "text/x-python",
   "name": "python",
   "nbconvert_exporter": "python",
   "pygments_lexer": "ipython3",
   "version": "3.12.7"
  }
 },
 "nbformat": 4,
 "nbformat_minor": 5
}
